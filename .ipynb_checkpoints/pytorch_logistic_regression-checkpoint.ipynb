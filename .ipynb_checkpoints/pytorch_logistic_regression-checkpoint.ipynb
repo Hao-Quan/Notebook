{
 "cells": [
  {
   "cell_type": "markdown",
   "metadata": {},
   "source": [
    "# 7. Logistic Regression with PyTorch\n",
    "## 1. About Logistic Regression\n"
   ]
  },
  {
   "cell_type": "markdown",
   "metadata": {
    "collapsed": true
   },
   "source": [
    "### 1.1 Logistic Regression Basics\n",
    "\n",
    "#### Classification algorithm\n",
    "- Example: Spam vs No Spam\n",
    "    - Input: Bunch of words\n",
    "    - Output: Probability spam or not\n",
    "\n",
    "#### Basic Comparison\n",
    "- **Linear regression**\n",
    "    - Output: numeric value given inputs\n",
    "- **Logistic regression**:\n",
    "    - Output: probability [0, 1] given input belonging to a class\n",
    "    \n",
    "    \n",
    "#### Input/Output Comparison\n",
    "- **Linear regression: Multiplication**\n",
    "    - Input: [1]\n",
    "        - Output: 2\n",
    "    - Input: [2]\n",
    "        - Output: 4\n",
    "    - Trying to model the relationship `y = 2x`\n",
    "- **Logistic regression: Spam**\n",
    "    - Input: \"Sign up to get 1 million dollars by tonight\"\n",
    "        - Output: p = 0.8\n",
    "    - Input: \"This is a receipt for your recent purchase with Amazon\"\n",
    "        - Output: p = 0.3\n",
    "    - **p: probability it is spam**\n",
    "        \n",
    "            "
   ]
  },
  {
   "cell_type": "markdown",
   "metadata": {},
   "source": [
    "### 1.2 Problems of Linear Regression\n",
    "- Example\n",
    "    - Fever\n",
    "    - **Input**: temperature\n",
    "    - **Output**: fever or no fever\n",
    "- Remember\n",
    "    - **Linear regression**: minimize error between points and line"
   ]
  },
  {
   "cell_type": "code",
   "execution_count": 1,
   "metadata": {},
   "outputs": [
    {
     "data": {
      "image/png": "[encoded data removed]",
      "text/plain": [
       "<Figure size 432x288 with 1 Axes>"
      ]
     },
     "metadata": {
      "needs_background": "light"
     },
     "output_type": "display_data"
    }
   ],
   "source": [
    "import numpy as np\n",
    "import matplotlib.pyplot as plt\n",
    "%matplotlib inline\n",
    "\n",
    "x = [1, 5, 10, 10, 25, 50, 70, 75, 100]\n",
    "y = [0, 0, 0, 0, 0, 1, 1, 1, 1]\n",
    "\n",
    "colors = np.random.rand(len(x))\n",
    "plt.plot(np.unique(x), np.poly1d(np.polyfit(x, y, 1))(np.unique(x)))\n",
    "plt.ylabel(\"Fever\")\n",
    "plt.xlabel(\"Temperature\")\n",
    "\n",
    "plt.scatter(x, y, c=colors, alpha=0.5)\n",
    "plt.show()"
   ]
  },
  {
   "cell_type": "markdown",
   "metadata": {},
   "source": [
    "**Linear Regression Problem 1**\n",
    "<br> Fever value can go negative (below 0) and positive (above 1).\n"
   ]
  },
  {
   "cell_type": "code",
   "execution_count": 2,
   "metadata": {},
   "outputs": [
    {
     "data": {
      "image/png": "[encoded data removed]",
      "text/plain": [
       "<Figure size 432x288 with 1 Axes>"
      ]
     },
     "metadata": {
      "needs_background": "light"
     },
     "output_type": "display_data"
    }
   ],
   "source": [
    "import numpy as np\n",
    "import matplotlib.pyplot as plt\n",
    "\n",
    "x = [1, 5, 10, 10, 25, 50, 70, 75, 300]\n",
    "y = [0, 0, 0, 0, 0, 1, 1, 1, 1]\n",
    "\n",
    "colors = np.random.rand(len(x))\n",
    "plt.plot(np.unique(x), np.poly1d(np.polyfit(x, y, 1))(np.unique(x)))\n",
    "plt.ylabel(\"Fever\")\n",
    "plt.xlabel(\"Temperature\")\n",
    "\n",
    "plt.scatter(x, y, c=colors, alpha=0.5)\n",
    "plt.show()"
   ]
  },
  {
   "cell_type": "markdown",
   "metadata": {},
   "source": [
    "**Linear Regression Problem 2**\n",
    "<br> Fever points not predicted with outliers."
   ]
  },
  {
   "cell_type": "markdown",
   "metadata": {},
   "source": [
    "### 1.3 Logistic Regression In-Depth\n",
    "\n",
    "#### Predicting Probability\n",
    "- Linear regression doesn't work\n",
    "- Instead of predicting direct values: **predict probability**\n",
    "\n",
    "<img src=\"./img/cross_entropy_final_4.png\" alt=\"deeplearningwizard\" style=\"width: 900px;\"/>\n",
    "\n",
    "#### Logistic Function $g()$ \n",
    "- Two-class logistic regression\n",
    "- $ y = A x + b$\n",
    "- $ g(y) = A x + b $\n",
    "- $g(y) = \\frac {1} {1 + e^{-y}} = \\frac {1} {1 + e^{-(A x + b)}}$\n",
    "- $g(y)$ = Estimated probability that $y = 1$ given $x$\n",
    "\n",
    "\n",
    "#### Softmax Function $g()$ \n",
    "- Multi-class logistic regression\n",
    "- Generalization of logistic function\n"
   ]
  },
  {
   "cell_type": "markdown",
   "metadata": {},
   "source": [
    "#### Cross Entropy Function $D()$\n",
    "- $D(S, L) = L log S - (1-L)log(1-S)$\n",
    "    - If L = 0 (label)\n",
    "        - $D(S, 0) = - log(1-S)$\n",
    "            - $- log(1-S)$: less positive if $S \\longrightarrow 0 $\n",
    "            - $- log(1-S)$: more positive if $S \\longrightarrow 1 $ (BIGGER LOSS)\n",
    "    - If L = 1 (label)\n",
    "        - $D(S, 1) = log S$\n",
    "            - $logS$: less negative if $S \\longrightarrow 1 $\n",
    "            - $logS$: more negative if $S \\longrightarrow 0 $ (BIGGER LOSS)"
   ]
  },
  {
   "cell_type": "markdown",
   "metadata": {},
   "source": [
    "![title](img/AnalysisLogisticReg.jpeg)"
   ]
  },
  {
   "cell_type": "code",
   "execution_count": 3,
   "metadata": {},
   "outputs": [
    {
     "name": "stdout",
     "output_type": "stream",
     "text": [
      "1.0000050000287824e-05\n",
      "11.51292546497478\n",
      "-1.0000050000287824e-05\n",
      "-11.512925464970229\n"
     ]
    }
   ],
   "source": [
    "import math\n",
    "print(-math.log(1 - 0.00001))\n",
    "print(-math.log(1 - 0.99999))\n",
    "\n",
    "print(math.log(0.99999))\n",
    "print(math.log(0.00001))"
   ]
  },
  {
   "cell_type": "markdown",
   "metadata": {},
   "source": [
    "#### Cross Entropy Loss $L$\n",
    "- Goal: Minimizing Cross Entropy Loss\n",
    "- $ L = \\frac {1}{N} \\sum_i D(g(Ax_i + b), L_i)$"
   ]
  },
  {
   "cell_type": "markdown",
   "metadata": {},
   "source": [
    "## 2. Building a Logistic Regression Model with PyTorch\n",
    "\n",
    "<img src=\"./img/lr2.png\" alt=\"deeplearningwizard\" style=\"width: 900px;\"/>\n",
    "\n",
    "### Steps\n",
    "- Step 1: Load Dataset\n",
    "- Step 2: Make Dataset Iterable\n",
    "- Step 3: Create Model Class\n",
    "- Step 4: Instantiate Model Class\n",
    "- Step 5: Instantiate Loss Class\n",
    "- Step 6: Instantiate Optimizer Class\n",
    "- Step 7: Train Model"
   ]
  },
  {
   "cell_type": "markdown",
   "metadata": {},
   "source": [
    "### Step 1a: Loading MNIST Train Dataset\n",
    "**Images from 1 to 9**"
   ]
  },
  {
   "cell_type": "code",
   "execution_count": 4,
   "metadata": {},
   "outputs": [],
   "source": [
    "import torch\n",
    "import torch.nn as nn\n",
    "import torchvision.transforms as transforms\n",
    "import torchvision.datasets as dsets"
   ]
  },
  {
   "cell_type": "code",
   "execution_count": 5,
   "metadata": {},
   "outputs": [],
   "source": [
    "train_dataset = dsets.MNIST(root='./data', \n",
    "                            train=True, \n",
    "                            transform=transforms.ToTensor(),\n",
    "                            download=True)"
   ]
  },
  {
   "cell_type": "code",
   "execution_count": 6,
   "metadata": {},
   "outputs": [
    {
     "data": {
      "text/plain": [
       "60000"
      ]
     },
     "execution_count": 6,
     "metadata": {},
     "output_type": "execute_result"
    }
   ],
   "source": [
    "len(train_dataset)"
   ]
  },
  {
   "cell_type": "code",
   "execution_count": 7,
   "metadata": {},
   "outputs": [
    {
     "data": {
      "text/plain": [
       "(tensor([[[0.0000, 0.0000, 0.0000, 0.0000, 0.0000, 0.0000, 0.0000, 0.0000,\n",
       "           0.0000, 0.0000, 0.0000, 0.0000, 0.0000, 0.0000, 0.0000, 0.0000,\n",
       "           0.0000, 0.0000, 0.0000, 0.0000, 0.0000, 0.0000, 0.0000, 0.0000,\n",
       "           0.0000, 0.0000, 0.0000, 0.0000],\n",
       "          [0.0000, 0.0000, 0.0000, 0.0000, 0.0000, 0.0000, 0.0000, 0.0000,\n",
       "           0.0000, 0.0000, 0.0000, 0.0000, 0.0000, 0.0000, 0.0000, 0.0000,\n",
       "           0.0000, 0.0000, 0.0000, 0.0000, 0.0000, 0.0000, 0.0000, 0.0000,\n",
       "           0.0000, 0.0000, 0.0000, 0.0000],\n",
       "          [0.0000, 0.0000, 0.0000, 0.0000, 0.0000, 0.0000, 0.0000, 0.0000,\n",
       "           0.0000, 0.0000, 0.0000, 0.0000, 0.0000, 0.0000, 0.0000, 0.0000,\n",
       "           0.0000, 0.0000, 0.0000, 0.0000, 0.0000, 0.0000, 0.0000, 0.0000,\n",
       "           0.0000, 0.0000, 0.0000, 0.0000],\n",
       "          [0.0000, 0.0000, 0.0000, 0.0000, 0.0000, 0.0000, 0.0000, 0.0000,\n",
       "           0.0000, 0.0000, 0.0000, 0.0000, 0.0000, 0.0000, 0.0000, 0.0000,\n",
       "           0.0000, 0.0000, 0.0000, 0.0000, 0.0000, 0.0000, 0.0000, 0.0000,\n",
       "           0.0000, 0.0000, 0.0000, 0.0000],\n",
       "          [0.0000, 0.0000, 0.0000, 0.0000, 0.0000, 0.0000, 0.0000, 0.0000,\n",
       "           0.0000, 0.0000, 0.0000, 0.0000, 0.0000, 0.0000, 0.0000, 0.0000,\n",
       "           0.0000, 0.0000, 0.0000, 0.0000, 0.0000, 0.0000, 0.0000, 0.0000,\n",
       "           0.0000, 0.0000, 0.0000, 0.0000],\n",
       "          [0.0000, 0.0000, 0.0000, 0.0000, 0.0000, 0.0000, 0.0000, 0.0000,\n",
       "           0.0000, 0.0000, 0.0000, 0.0000, 0.0118, 0.0706, 0.0706, 0.0706,\n",
       "           0.4941, 0.5333, 0.6863, 0.1020, 0.6510, 1.0000, 0.9686, 0.4980,\n",
       "           0.0000, 0.0000, 0.0000, 0.0000],\n",
       "          [0.0000, 0.0000, 0.0000, 0.0000, 0.0000, 0.0000, 0.0000, 0.0000,\n",
       "           0.1176, 0.1412, 0.3686, 0.6039, 0.6667, 0.9922, 0.9922, 0.9922,\n",
       "           0.9922, 0.9922, 0.8824, 0.6745, 0.9922, 0.9490, 0.7647, 0.2510,\n",
       "           0.0000, 0.0000, 0.0000, 0.0000],\n",
       "          [0.0000, 0.0000, 0.0000, 0.0000, 0.0000, 0.0000, 0.0000, 0.1922,\n",
       "           0.9333, 0.9922, 0.9922, 0.9922, 0.9922, 0.9922, 0.9922, 0.9922,\n",
       "           0.9922, 0.9843, 0.3647, 0.3216, 0.3216, 0.2196, 0.1529, 0.0000,\n",
       "           0.0000, 0.0000, 0.0000, 0.0000],\n",
       "          [0.0000, 0.0000, 0.0000, 0.0000, 0.0000, 0.0000, 0.0000, 0.0706,\n",
       "           0.8588, 0.9922, 0.9922, 0.9922, 0.9922, 0.9922, 0.7765, 0.7137,\n",
       "           0.9686, 0.9451, 0.0000, 0.0000, 0.0000, 0.0000, 0.0000, 0.0000,\n",
       "           0.0000, 0.0000, 0.0000, 0.0000],\n",
       "          [0.0000, 0.0000, 0.0000, 0.0000, 0.0000, 0.0000, 0.0000, 0.0000,\n",
       "           0.3137, 0.6118, 0.4196, 0.9922, 0.9922, 0.8039, 0.0431, 0.0000,\n",
       "           0.1686, 0.6039, 0.0000, 0.0000, 0.0000, 0.0000, 0.0000, 0.0000,\n",
       "           0.0000, 0.0000, 0.0000, 0.0000],\n",
       "          [0.0000, 0.0000, 0.0000, 0.0000, 0.0000, 0.0000, 0.0000, 0.0000,\n",
       "           0.0000, 0.0549, 0.0039, 0.6039, 0.9922, 0.3529, 0.0000, 0.0000,\n",
       "           0.0000, 0.0000, 0.0000, 0.0000, 0.0000, 0.0000, 0.0000, 0.0000,\n",
       "           0.0000, 0.0000, 0.0000, 0.0000],\n",
       "          [0.0000, 0.0000, 0.0000, 0.0000, 0.0000, 0.0000, 0.0000, 0.0000,\n",
       "           0.0000, 0.0000, 0.0000, 0.5451, 0.9922, 0.7451, 0.0078, 0.0000,\n",
       "           0.0000, 0.0000, 0.0000, 0.0000, 0.0000, 0.0000, 0.0000, 0.0000,\n",
       "           0.0000, 0.0000, 0.0000, 0.0000],\n",
       "          [0.0000, 0.0000, 0.0000, 0.0000, 0.0000, 0.0000, 0.0000, 0.0000,\n",
       "           0.0000, 0.0000, 0.0000, 0.0431, 0.7451, 0.9922, 0.2745, 0.0000,\n",
       "           0.0000, 0.0000, 0.0000, 0.0000, 0.0000, 0.0000, 0.0000, 0.0000,\n",
       "           0.0000, 0.0000, 0.0000, 0.0000],\n",
       "          [0.0000, 0.0000, 0.0000, 0.0000, 0.0000, 0.0000, 0.0000, 0.0000,\n",
       "           0.0000, 0.0000, 0.0000, 0.0000, 0.1373, 0.9451, 0.8824, 0.6275,\n",
       "           0.4235, 0.0039, 0.0000, 0.0000, 0.0000, 0.0000, 0.0000, 0.0000,\n",
       "           0.0000, 0.0000, 0.0000, 0.0000],\n",
       "          [0.0000, 0.0000, 0.0000, 0.0000, 0.0000, 0.0000, 0.0000, 0.0000,\n",
       "           0.0000, 0.0000, 0.0000, 0.0000, 0.0000, 0.3176, 0.9412, 0.9922,\n",
       "           0.9922, 0.4667, 0.0980, 0.0000, 0.0000, 0.0000, 0.0000, 0.0000,\n",
       "           0.0000, 0.0000, 0.0000, 0.0000],\n",
       "          [0.0000, 0.0000, 0.0000, 0.0000, 0.0000, 0.0000, 0.0000, 0.0000,\n",
       "           0.0000, 0.0000, 0.0000, 0.0000, 0.0000, 0.0000, 0.1765, 0.7294,\n",
       "           0.9922, 0.9922, 0.5882, 0.1059, 0.0000, 0.0000, 0.0000, 0.0000,\n",
       "           0.0000, 0.0000, 0.0000, 0.0000],\n",
       "          [0.0000, 0.0000, 0.0000, 0.0000, 0.0000, 0.0000, 0.0000, 0.0000,\n",
       "           0.0000, 0.0000, 0.0000, 0.0000, 0.0000, 0.0000, 0.0000, 0.0627,\n",
       "           0.3647, 0.9882, 0.9922, 0.7333, 0.0000, 0.0000, 0.0000, 0.0000,\n",
       "           0.0000, 0.0000, 0.0000, 0.0000],\n",
       "          [0.0000, 0.0000, 0.0000, 0.0000, 0.0000, 0.0000, 0.0000, 0.0000,\n",
       "           0.0000, 0.0000, 0.0000, 0.0000, 0.0000, 0.0000, 0.0000, 0.0000,\n",
       "           0.0000, 0.9765, 0.9922, 0.9765, 0.2510, 0.0000, 0.0000, 0.0000,\n",
       "           0.0000, 0.0000, 0.0000, 0.0000],\n",
       "          [0.0000, 0.0000, 0.0000, 0.0000, 0.0000, 0.0000, 0.0000, 0.0000,\n",
       "           0.0000, 0.0000, 0.0000, 0.0000, 0.0000, 0.0000, 0.1804, 0.5098,\n",
       "           0.7176, 0.9922, 0.9922, 0.8118, 0.0078, 0.0000, 0.0000, 0.0000,\n",
       "           0.0000, 0.0000, 0.0000, 0.0000],\n",
       "          [0.0000, 0.0000, 0.0000, 0.0000, 0.0000, 0.0000, 0.0000, 0.0000,\n",
       "           0.0000, 0.0000, 0.0000, 0.0000, 0.1529, 0.5804, 0.8980, 0.9922,\n",
       "           0.9922, 0.9922, 0.9804, 0.7137, 0.0000, 0.0000, 0.0000, 0.0000,\n",
       "           0.0000, 0.0000, 0.0000, 0.0000],\n",
       "          [0.0000, 0.0000, 0.0000, 0.0000, 0.0000, 0.0000, 0.0000, 0.0000,\n",
       "           0.0000, 0.0000, 0.0941, 0.4471, 0.8667, 0.9922, 0.9922, 0.9922,\n",
       "           0.9922, 0.7882, 0.3059, 0.0000, 0.0000, 0.0000, 0.0000, 0.0000,\n",
       "           0.0000, 0.0000, 0.0000, 0.0000],\n",
       "          [0.0000, 0.0000, 0.0000, 0.0000, 0.0000, 0.0000, 0.0000, 0.0000,\n",
       "           0.0902, 0.2588, 0.8353, 0.9922, 0.9922, 0.9922, 0.9922, 0.7765,\n",
       "           0.3176, 0.0078, 0.0000, 0.0000, 0.0000, 0.0000, 0.0000, 0.0000,\n",
       "           0.0000, 0.0000, 0.0000, 0.0000],\n",
       "          [0.0000, 0.0000, 0.0000, 0.0000, 0.0000, 0.0000, 0.0706, 0.6706,\n",
       "           0.8588, 0.9922, 0.9922, 0.9922, 0.9922, 0.7647, 0.3137, 0.0353,\n",
       "           0.0000, 0.0000, 0.0000, 0.0000, 0.0000, 0.0000, 0.0000, 0.0000,\n",
       "           0.0000, 0.0000, 0.0000, 0.0000],\n",
       "          [0.0000, 0.0000, 0.0000, 0.0000, 0.2157, 0.6745, 0.8863, 0.9922,\n",
       "           0.9922, 0.9922, 0.9922, 0.9569, 0.5216, 0.0431, 0.0000, 0.0000,\n",
       "           0.0000, 0.0000, 0.0000, 0.0000, 0.0000, 0.0000, 0.0000, 0.0000,\n",
       "           0.0000, 0.0000, 0.0000, 0.0000],\n",
       "          [0.0000, 0.0000, 0.0000, 0.0000, 0.5333, 0.9922, 0.9922, 0.9922,\n",
       "           0.8314, 0.5294, 0.5176, 0.0627, 0.0000, 0.0000, 0.0000, 0.0000,\n",
       "           0.0000, 0.0000, 0.0000, 0.0000, 0.0000, 0.0000, 0.0000, 0.0000,\n",
       "           0.0000, 0.0000, 0.0000, 0.0000],\n",
       "          [0.0000, 0.0000, 0.0000, 0.0000, 0.0000, 0.0000, 0.0000, 0.0000,\n",
       "           0.0000, 0.0000, 0.0000, 0.0000, 0.0000, 0.0000, 0.0000, 0.0000,\n",
       "           0.0000, 0.0000, 0.0000, 0.0000, 0.0000, 0.0000, 0.0000, 0.0000,\n",
       "           0.0000, 0.0000, 0.0000, 0.0000],\n",
       "          [0.0000, 0.0000, 0.0000, 0.0000, 0.0000, 0.0000, 0.0000, 0.0000,\n",
       "           0.0000, 0.0000, 0.0000, 0.0000, 0.0000, 0.0000, 0.0000, 0.0000,\n",
       "           0.0000, 0.0000, 0.0000, 0.0000, 0.0000, 0.0000, 0.0000, 0.0000,\n",
       "           0.0000, 0.0000, 0.0000, 0.0000],\n",
       "          [0.0000, 0.0000, 0.0000, 0.0000, 0.0000, 0.0000, 0.0000, 0.0000,\n",
       "           0.0000, 0.0000, 0.0000, 0.0000, 0.0000, 0.0000, 0.0000, 0.0000,\n",
       "           0.0000, 0.0000, 0.0000, 0.0000, 0.0000, 0.0000, 0.0000, 0.0000,\n",
       "           0.0000, 0.0000, 0.0000, 0.0000]]]),\n",
       " 5)"
      ]
     },
     "execution_count": 7,
     "metadata": {},
     "output_type": "execute_result"
    }
   ],
   "source": [
    "train_dataset[0]"
   ]
  },
  {
   "cell_type": "code",
   "execution_count": 8,
   "metadata": {},
   "outputs": [
    {
     "data": {
      "text/plain": [
       "tuple"
      ]
     },
     "execution_count": 8,
     "metadata": {},
     "output_type": "execute_result"
    }
   ],
   "source": [
    "type(train_dataset[0])"
   ]
  },
  {
   "cell_type": "code",
   "execution_count": 9,
   "metadata": {},
   "outputs": [
    {
     "data": {
      "text/plain": [
       "torch.Size([1, 28, 28])"
      ]
     },
     "execution_count": 9,
     "metadata": {},
     "output_type": "execute_result"
    }
   ],
   "source": [
    "# Input Matrix\n",
    "train_dataset[0][0].size()"
   ]
  },
  {
   "cell_type": "code",
   "execution_count": 10,
   "metadata": {},
   "outputs": [
    {
     "data": {
      "text/plain": [
       "5"
      ]
     },
     "execution_count": 10,
     "metadata": {},
     "output_type": "execute_result"
    }
   ],
   "source": [
    "# Label\n",
    "train_dataset[0][1]"
   ]
  },
  {
   "cell_type": "markdown",
   "metadata": {},
   "source": [
    "#### Displaying MNIST"
   ]
  },
  {
   "cell_type": "code",
   "execution_count": 11,
   "metadata": {},
   "outputs": [],
   "source": [
    "import matplotlib.pyplot as plt\n",
    "%matplotlib inline  \n",
    "import numpy as np"
   ]
  },
  {
   "cell_type": "code",
   "execution_count": 12,
   "metadata": {},
   "outputs": [
    {
     "data": {
      "text/plain": [
       "(1, 28, 28)"
      ]
     },
     "execution_count": 12,
     "metadata": {},
     "output_type": "execute_result"
    }
   ],
   "source": [
    "train_dataset[0][0].numpy().shape"
   ]
  },
  {
   "cell_type": "code",
   "execution_count": 13,
   "metadata": {},
   "outputs": [],
   "source": [
    "show_img = train_dataset[0][0].numpy().reshape(28, 28)"
   ]
  },
  {
   "cell_type": "code",
   "execution_count": 14,
   "metadata": {},
   "outputs": [
    {
     "data": {
      "text/plain": [
       "<matplotlib.image.AxesImage at 0x7f82ae0b9850>"
      ]
     },
     "execution_count": 14,
     "metadata": {},
     "output_type": "execute_result"
    },
    {
     "data": {
      "image/png": "[encoded data removed]",
      "text/plain": [
       "<Figure size 432x288 with 1 Axes>"
      ]
     },
     "metadata": {
      "needs_background": "light"
     },
     "output_type": "display_data"
    }
   ],
   "source": [
    "plt.imshow(show_img, cmap='gray')"
   ]
  },
  {
   "cell_type": "code",
   "execution_count": 15,
   "metadata": {},
   "outputs": [
    {
     "data": {
      "text/plain": [
       "5"
      ]
     },
     "execution_count": 15,
     "metadata": {},
     "output_type": "execute_result"
    }
   ],
   "source": [
    "# Label\n",
    "train_dataset[0][1]"
   ]
  },
  {
   "cell_type": "code",
   "execution_count": 16,
   "metadata": {},
   "outputs": [],
   "source": [
    "show_img = train_dataset[1][0].numpy().reshape(28, 28)"
   ]
  },
  {
   "cell_type": "code",
   "execution_count": 17,
   "metadata": {},
   "outputs": [
    {
     "data": {
      "text/plain": [
       "<matplotlib.image.AxesImage at 0x7f82ae02c710>"
      ]
     },
     "execution_count": 17,
     "metadata": {},
     "output_type": "execute_result"
    },
    {
     "data": {
      "image/png": "[encoded data removed]",
      "text/plain": [
       "<Figure size 432x288 with 1 Axes>"
      ]
     },
     "metadata": {
      "needs_background": "light"
     },
     "output_type": "display_data"
    }
   ],
   "source": [
    "plt.imshow(show_img, cmap='gray')"
   ]
  },
  {
   "cell_type": "code",
   "execution_count": 18,
   "metadata": {},
   "outputs": [
    {
     "data": {
      "text/plain": [
       "0"
      ]
     },
     "execution_count": 18,
     "metadata": {},
     "output_type": "execute_result"
    }
   ],
   "source": [
    "# Label\n",
    "train_dataset[1][1]"
   ]
  },
  {
   "cell_type": "markdown",
   "metadata": {},
   "source": [
    "### Step 1b: Loading MNIST Test Dataset\n",
    "- Show our algorithm works beyond the data we have trained on.\n",
    "- Out-of-sample"
   ]
  },
  {
   "cell_type": "code",
   "execution_count": 19,
   "metadata": {},
   "outputs": [],
   "source": [
    "test_dataset = dsets.MNIST(root='./data', \n",
    "                           train=False, \n",
    "                           transform=transforms.ToTensor())"
   ]
  },
  {
   "cell_type": "code",
   "execution_count": 20,
   "metadata": {},
   "outputs": [
    {
     "data": {
      "text/plain": [
       "10000"
      ]
     },
     "execution_count": 20,
     "metadata": {},
     "output_type": "execute_result"
    }
   ],
   "source": [
    "len(test_dataset)"
   ]
  },
  {
   "cell_type": "code",
   "execution_count": 21,
   "metadata": {},
   "outputs": [
    {
     "data": {
      "text/plain": [
       "tuple"
      ]
     },
     "execution_count": 21,
     "metadata": {},
     "output_type": "execute_result"
    }
   ],
   "source": [
    "type(test_dataset[0])"
   ]
  },
  {
   "cell_type": "code",
   "execution_count": 22,
   "metadata": {},
   "outputs": [
    {
     "data": {
      "text/plain": [
       "torch.Size([1, 28, 28])"
      ]
     },
     "execution_count": 22,
     "metadata": {},
     "output_type": "execute_result"
    }
   ],
   "source": [
    "# Image matrix\n",
    "test_dataset[0][0].size()"
   ]
  },
  {
   "cell_type": "code",
   "execution_count": 23,
   "metadata": {},
   "outputs": [
    {
     "data": {
      "text/plain": [
       "<matplotlib.image.AxesImage at 0x7f82ad82a0d0>"
      ]
     },
     "execution_count": 23,
     "metadata": {},
     "output_type": "execute_result"
    },
    {
     "data": {
      "image/png": "[encoded data removed]",
      "text/plain": [
       "<Figure size 432x288 with 1 Axes>"
      ]
     },
     "metadata": {
      "needs_background": "light"
     },
     "output_type": "display_data"
    }
   ],
   "source": [
    "show_img = test_dataset[0][0].numpy().reshape(28, 28)\n",
    "plt.imshow(show_img, cmap='gray')"
   ]
  },
  {
   "cell_type": "code",
   "execution_count": 24,
   "metadata": {},
   "outputs": [
    {
     "data": {
      "text/plain": [
       "7"
      ]
     },
     "execution_count": 24,
     "metadata": {},
     "output_type": "execute_result"
    }
   ],
   "source": [
    "# Label\n",
    "test_dataset[0][1]"
   ]
  },
  {
   "cell_type": "markdown",
   "metadata": {},
   "source": [
    "### Step 2: Make Dataset Iterable\n",
    "- Aim: make the dataset iterable\n",
    "- **totaldata**: 60000\n",
    "- **minibatch**: 100\n",
    "    - Number of examples in 1 iteration\n",
    "- **iterations**: 3000\n",
    "    - 1 iteration: one mini-batch forward & backward pass\n",
    "- **epochs**\n",
    "    - 1 epoch: running through the whole dataset once\n",
    "    - $epochs = iterations \\div \\frac{totaldata}{minibatch} = 3000 \\div \\frac{60000}{100} = 5 $\n",
    "    \n",
    "### Explaination Hao\n",
    "\n",
    "    Training set 60000 in total, I divid training set into equal size mini parts (100 for each mini-part)\n",
    "    One training time, I put minibatch size (100) images to train model. So, I should cycle 60 000 / 100 = 600 times(loops) to iterate entire training dataset. \n",
    "    I personally want to train totally the model 3000 times(loops). Hence, I need 5 epoches to reach 3000 times.\n",
    "- $epochs = iterations \\div \\frac{totaldata}{minibatch} = 3000 \\div \\frac{60000}{100} = 5 $             "
   ]
  },
  {
   "cell_type": "code",
   "execution_count": 25,
   "metadata": {},
   "outputs": [
    {
     "data": {
      "text/plain": [
       "60000"
      ]
     },
     "execution_count": 25,
     "metadata": {},
     "output_type": "execute_result"
    }
   ],
   "source": [
    "len(train_dataset)"
   ]
  },
  {
   "cell_type": "code",
   "execution_count": 26,
   "metadata": {},
   "outputs": [],
   "source": [
    "batch_size = 100"
   ]
  },
  {
   "cell_type": "code",
   "execution_count": 27,
   "metadata": {},
   "outputs": [],
   "source": [
    "n_iters = 3000"
   ]
  },
  {
   "cell_type": "code",
   "execution_count": 28,
   "metadata": {},
   "outputs": [
    {
     "data": {
      "text/plain": [
       "5"
      ]
     },
     "execution_count": 28,
     "metadata": {},
     "output_type": "execute_result"
    }
   ],
   "source": [
    "num_epochs = n_iters / (len(train_dataset) / batch_size)\n",
    "num_epochs = int(num_epochs)\n",
    "num_epochs"
   ]
  },
  {
   "cell_type": "markdown",
   "metadata": {},
   "source": [
    "#### Create Iterable Object: Training Dataset"
   ]
  },
  {
   "cell_type": "code",
   "execution_count": 29,
   "metadata": {},
   "outputs": [],
   "source": [
    "train_loader = torch.utils.data.DataLoader(dataset=train_dataset, \n",
    "                                           batch_size=batch_size, \n",
    "                                           shuffle=True)"
   ]
  },
  {
   "cell_type": "markdown",
   "metadata": {},
   "source": [
    "#### Check Iterability"
   ]
  },
  {
   "cell_type": "code",
   "execution_count": 30,
   "metadata": {},
   "outputs": [
    {
     "name": "stderr",
     "output_type": "stream",
     "text": [
      "/home/hao/anaconda3/envs/open-mmlab/lib/python3.7/site-packages/ipykernel_launcher.py:2: DeprecationWarning: Using or importing the ABCs from 'collections' instead of from 'collections.abc' is deprecated since Python 3.3,and in 3.9 it will stop working\n",
      "  \n"
     ]
    },
    {
     "data": {
      "text/plain": [
       "True"
      ]
     },
     "execution_count": 30,
     "metadata": {},
     "output_type": "execute_result"
    }
   ],
   "source": [
    "import collections\n",
    "isinstance(train_loader, collections.Iterable)"
   ]
  },
  {
   "cell_type": "markdown",
   "metadata": {},
   "source": [
    "#### Create Iterable Object: Testing Dataset"
   ]
  },
  {
   "cell_type": "code",
   "execution_count": 31,
   "metadata": {},
   "outputs": [],
   "source": [
    "# Iterable object\n",
    "test_loader = torch.utils.data.DataLoader(dataset=test_dataset, \n",
    "                                          batch_size=batch_size, \n",
    "                                          shuffle=False)"
   ]
  },
  {
   "cell_type": "markdown",
   "metadata": {},
   "source": [
    "#### Check Iterability"
   ]
  },
  {
   "cell_type": "code",
   "execution_count": 32,
   "metadata": {},
   "outputs": [
    {
     "data": {
      "text/plain": [
       "True"
      ]
     },
     "execution_count": 32,
     "metadata": {},
     "output_type": "execute_result"
    }
   ],
   "source": [
    "isinstance(test_loader, collections.Iterable)"
   ]
  },
  {
   "cell_type": "markdown",
   "metadata": {},
   "source": [
    "#### Main Aim: Iterate Through Dataset"
   ]
  },
  {
   "cell_type": "code",
   "execution_count": 33,
   "metadata": {},
   "outputs": [],
   "source": [
    "img_1 = np.ones((28, 28))\n",
    "img_2 = np.ones((28, 28))\n",
    "lst = [img_1, img_2]"
   ]
  },
  {
   "cell_type": "code",
   "execution_count": null,
   "metadata": {},
   "outputs": [],
   "source": []
  },
  {
   "cell_type": "code",
   "execution_count": 34,
   "metadata": {},
   "outputs": [
    {
     "name": "stdout",
     "output_type": "stream",
     "text": [
      "(28, 28)\n",
      "(28, 28)\n"
     ]
    }
   ],
   "source": [
    "# Need to iterate\n",
    "# Think of numbers as the images\n",
    "for i in lst:\n",
    "    print(i.shape)"
   ]
  },
  {
   "cell_type": "markdown",
   "metadata": {},
   "source": [
    "### Step 3: Building Model"
   ]
  },
  {
   "cell_type": "code",
   "execution_count": 35,
   "metadata": {},
   "outputs": [],
   "source": [
    "# Same as linear regression! \n",
    "class LogisticRegressionModel(nn.Module):\n",
    "    def __init__(self, input_dim, output_dim):\n",
    "        super(LogisticRegressionModel, self).__init__()\n",
    "        self.linear = nn.Linear(input_dim, output_dim)\n",
    "    \n",
    "    def forward(self, x):\n",
    "        out = self.linear(x)\n",
    "        return out"
   ]
  },
  {
   "cell_type": "markdown",
   "metadata": {},
   "source": [
    "### Step 4: Instantiate Model Class\n",
    "- Input dimension: \n",
    "    - Size of image\n",
    "    - $28 \\times 28 = 784$\n",
    "- Output dimension: 10\n",
    "    - 0, 1, 2, 3, 4, 5, 6, 7, 8, 9"
   ]
  },
  {
   "cell_type": "code",
   "execution_count": 36,
   "metadata": {},
   "outputs": [
    {
     "data": {
      "text/plain": [
       "torch.Size([1, 28, 28])"
      ]
     },
     "execution_count": 36,
     "metadata": {},
     "output_type": "execute_result"
    }
   ],
   "source": [
    "# Size of images\n",
    "train_dataset[0][0].size()\n"
   ]
  },
  {
   "cell_type": "code",
   "execution_count": 37,
   "metadata": {},
   "outputs": [],
   "source": [
    "input_dim = 28*28\n",
    "output_dim = 10\n",
    "\n",
    "model = LogisticRegressionModel(input_dim, output_dim)"
   ]
  },
  {
   "cell_type": "markdown",
   "metadata": {},
   "source": [
    "### Step 5: Instantiate Loss Class\n",
    "- **Logistic Regression**: Cross Entropy Loss\n",
    "    - _Linear Regression: MSE_\n",
    "   "
   ]
  },
  {
   "cell_type": "code",
   "execution_count": 38,
   "metadata": {},
   "outputs": [],
   "source": [
    "criterion = nn.CrossEntropyLoss()  "
   ]
  },
  {
   "cell_type": "markdown",
   "metadata": {},
   "source": [
    "#### What happens in `nn.CrossEntropyLoss()`?\n",
    "- Computes softmax (logistic/softmax function)\n",
    "- Computes cross entropy\n",
    "\n",
    "<img src=\"./img/cross_entropy_final_4.png\" alt=\"deeplearningwizard\" style=\"width: 900px;\"/>"
   ]
  },
  {
   "cell_type": "markdown",
   "metadata": {},
   "source": [
    "### Step 6: Instantiate Optimizer Class\n",
    "- Simplified equation\n",
    "    - $\\theta = \\theta - \\eta \\cdot \\nabla_\\theta $\n",
    "        - $\\theta$: parameters (our variables)\n",
    "        - $\\eta$: learning rate (how fast we want to learn)\n",
    "        - $\\nabla_\\theta$: parameters' gradients\n",
    "- Even simplier equation\n",
    "    - `parameters = parameters - learning_rate * parameters_gradients`\n",
    "    - **At every iteration, we update our model's parameters**"
   ]
  },
  {
   "cell_type": "code",
   "execution_count": 39,
   "metadata": {},
   "outputs": [],
   "source": [
    "learning_rate = 0.001\n",
    "\n",
    "optimizer = torch.optim.SGD(model.parameters(), lr=learning_rate)  "
   ]
  },
  {
   "cell_type": "markdown",
   "metadata": {},
   "source": [
    "### Parameters In-Depth"
   ]
  },
  {
   "cell_type": "code",
   "execution_count": 40,
   "metadata": {
    "scrolled": true
   },
   "outputs": [
    {
     "name": "stdout",
     "output_type": "stream",
     "text": [
      "<generator object Module.parameters at 0x7f82fea86bd0>\n",
      "2\n",
      "torch.Size([10, 784])\n",
      "torch.Size([10])\n"
     ]
    }
   ],
   "source": [
    "print(model.parameters())\n",
    "\n",
    "print(len(list(model.parameters())))\n",
    "\n",
    "# FC 1 Parameters\n",
    "# Because y = Ax + b, dimension of y is 10 (ten numbers of labels). So, dimension of A is 10*(784=28*28).\n",
    "\n",
    "print(list(model.parameters())[0].size())\n",
    "\n",
    "# FC 1 Bias Parameters\n",
    "# Because y = Ax + b, dimension of b is 10 (ten numbers of labels). So, dimension of bias b is 10.\n",
    "\n",
    "print(list(model.parameters())[1].size())"
   ]
  },
  {
   "cell_type": "markdown",
   "metadata": {},
   "source": [
    "#### Quick Dot Product Review\n",
    "- Example 1: **dot product**\n",
    "    - $A: (100, 10)$\n",
    "    - $B: (10, 1)$\n",
    "    - $A \\cdot B = (100, 10) \\cdot (10, 1) = (100, 1)$\n",
    "- Example 2: **dot product**\n",
    "    - $A: (50, 5)$\n",
    "    - $B: (5, 2)$\n",
    "    - $A \\cdot B = (50, 5) \\cdot (5, 2) = (50, 2)$\n",
    "- Example 3: **element-wise addition**\n",
    "    - $A: (10, 1)$\n",
    "    - $B: (10, 1)$\n",
    "    - $A + B = (10, 1)$"
   ]
  },
  {
   "cell_type": "markdown",
   "metadata": {},
   "source": [
    "<img src=\"./images/lr_params2.png\" alt=\"deeplearningwizard\" style=\"width: 900px;\"/>"
   ]
  },
  {
   "cell_type": "markdown",
   "metadata": {},
   "source": [
    "### Step 7: Train Model\n",
    "- Process \n",
    "    1. Convert inputs/labels to variables\n",
    "    2. Clear gradient buffets\n",
    "    3. Get output given inputs \n",
    "    4. Get loss\n",
    "    5. Get gradients w.r.t. parameters\n",
    "    6. Update parameters using gradients\n",
    "        - `parameters = parameters - learning_rate * parameters_gradients`\n",
    "    7. REPEAT"
   ]
  },
  {
   "cell_type": "code",
   "execution_count": 41,
   "metadata": {},
   "outputs": [
    {
     "name": "stdout",
     "output_type": "stream",
     "text": [
      "Iteration: 500. Loss: 1.8431134223937988. Accuracy: 64\n",
      "Iteration: 1000. Loss: 1.5304043292999268. Accuracy: 74\n",
      "Iteration: 1500. Loss: 1.2898565530776978. Accuracy: 78\n",
      "Iteration: 2000. Loss: 1.1771576404571533. Accuracy: 80\n",
      "Iteration: 2500. Loss: 1.0459070205688477. Accuracy: 81\n",
      "Iteration: 3000. Loss: 1.034541368484497. Accuracy: 82\n"
     ]
    }
   ],
   "source": [
    "iter = 0\n",
    "for epoch in range(int(num_epochs)):\n",
    "    for i, (images, labels) in enumerate(train_loader):\n",
    "        # Load images as Variable\n",
    "        images = images.view(-1, 28*28).requires_grad_()\n",
    "        labels = labels\n",
    "        \n",
    "        # Clear gradients w.r.t. parameters\n",
    "        optimizer.zero_grad()\n",
    "        \n",
    "        # Forward pass to get output/logits\n",
    "        # Output: 100 x 10\n",
    "        # Apply Linear Regression:\n",
    "        #    Output(100 x 10) =   X(100x784) * A(784x10) + Bias(100x10)\n",
    "        outputs = model(images)\n",
    "        \n",
    "        # Calculate Loss: softmax --> cross entropy loss\n",
    "        loss = criterion(outputs, labels)\n",
    "        \n",
    "        # Getting gradients w.r.t. parameters\n",
    "        loss.backward()\n",
    "        \n",
    "        # Updating parameters\n",
    "        optimizer.step()\n",
    "        \n",
    "        iter += 1\n",
    "        \n",
    "        if iter % 500 == 0:\n",
    "            # Calculate Accuracy         \n",
    "            correct = 0\n",
    "            total = 0\n",
    "            # Iterate through test dataset\n",
    "            for images, labels in test_loader:\n",
    "                # Load images to a Torch Variable\n",
    "                images = images.view(-1, 28*28).requires_grad_()\n",
    "                \n",
    "                # Forward pass to get output/logits\n",
    "                # Output: 100 x 10\n",
    "                # Apply Linear Regression:\n",
    "                # Output(100 x 10) =   X(100x784) * A(784x10) + Bias(100x10)\n",
    "                outputs = model(images)\n",
    "                \n",
    "                # Get predictions from the maximum value\n",
    "                # predicted.shape = 100\n",
    "                _, predicted = torch.max(outputs.data, 1)\n",
    "                \n",
    "                # Total number of labels\n",
    "                # labels.size = 100 (minibatch)\n",
    "                total += labels.size(0)\n",
    "                \n",
    "                # Total correct predictions\n",
    "                correct += (predicted == labels).sum()\n",
    "            \n",
    "            accuracy = 100 * correct / total\n",
    "            \n",
    "            # Print Loss\n",
    "            print('Iteration: {}. Loss: {}. Accuracy: {}'.format(iter, loss.item(), accuracy))"
   ]
  },
  {
   "cell_type": "markdown",
   "metadata": {},
   "source": [
    "\n",
    "#### Explaination for:\n",
    "        outputs = model(images)\n",
    "        ...\n",
    "        _, predicted = torch.max(outputs.data, 1)\n",
    "        \n",
    "<img src=\"./img/TestSetMaxIndex.jpeg\" alt=\"deeplearningwizard\" style=\"width: 900px;\"/>\n",
    "\n",
    "#### Break Down Accuracy Calculation"
   ]
  },
  {
   "cell_type": "code",
   "execution_count": 42,
   "metadata": {},
   "outputs": [
    {
     "name": "stdout",
     "output_type": "stream",
     "text": [
      "OUTPUTS\n",
      "tensor([[-3.2474e-01, -1.1798e+00, -4.4596e-01, -5.2345e-02,  1.1184e-01,\n",
      "         -3.2556e-01, -1.1478e+00,  2.7933e+00, -1.1076e-01,  8.2766e-01],\n",
      "        [ 1.3074e-01, -1.3611e-01,  1.6994e+00,  8.9703e-01, -1.9703e+00,\n",
      "          4.8143e-01,  1.0312e+00, -1.9217e+00,  4.3099e-01, -1.5655e+00],\n",
      "        [-1.0025e+00,  2.2451e+00,  1.6994e-01, -1.9945e-02, -7.4794e-01,\n",
      "         -4.0712e-01, -2.5078e-01, -2.9566e-01,  7.6681e-03, -3.5111e-01],\n",
      "        [ 2.8574e+00, -2.3052e+00, -1.2945e-01, -2.9137e-01, -9.2864e-01,\n",
      "          6.3847e-01,  1.1942e+00,  1.2938e-01, -4.9755e-01, -1.7095e-01],\n",
      "        [-2.2786e-01, -2.0134e+00,  4.7451e-01, -7.5448e-01,  1.8027e+00,\n",
      "         -4.2293e-01,  1.3031e-01,  3.7236e-01, -6.3359e-02,  9.2727e-01],\n",
      "        [-1.4311e+00,  2.7082e+00,  7.4501e-02,  5.4267e-02, -7.9735e-01,\n",
      "         -4.7227e-01, -8.4466e-01, -1.9187e-01,  2.4395e-01, -2.4181e-01],\n",
      "        [-1.3355e+00, -1.2840e+00, -8.8745e-01,  1.5185e-01,  1.5700e+00,\n",
      "          1.3163e-01, -8.7290e-01,  6.8040e-01,  4.1765e-01,  8.1072e-01],\n",
      "        [-1.4751e+00, -6.2738e-01, -7.1868e-01, -6.6004e-02,  6.8260e-01,\n",
      "          1.8793e-01,  3.7638e-01, -7.3197e-02,  8.1214e-02,  1.2237e+00],\n",
      "        [ 8.7175e-02, -6.3621e-01,  7.2153e-01, -1.6116e+00,  6.3956e-01,\n",
      "          8.1233e-02,  3.0269e-01, -9.9281e-01, -7.7039e-02,  4.6670e-02],\n",
      "        [-6.6050e-01, -6.9532e-01, -1.1813e+00, -1.2943e+00,  8.3586e-01,\n",
      "         -2.2681e-01, -5.9178e-01,  1.7166e+00, -2.4886e-01,  1.6350e+00],\n",
      "        [ 3.1533e+00, -1.7213e+00,  6.0644e-01,  1.0329e+00, -8.4585e-01,\n",
      "          1.0657e+00, -5.6597e-01, -1.5168e+00,  5.9689e-01, -1.6680e+00],\n",
      "        [ 7.5770e-01, -3.8127e-01,  8.8214e-01, -2.9324e-01,  3.3376e-01,\n",
      "         -3.1678e-01,  6.6738e-01, -8.9443e-01,  8.8578e-02, -3.4955e-01],\n",
      "        [-8.7445e-01, -1.6223e+00, -8.9283e-01, -9.8374e-01,  1.3746e+00,\n",
      "         -2.4806e-01, -4.7918e-01,  8.9706e-01,  2.3942e-01,  1.9301e+00],\n",
      "        [ 3.1080e+00, -2.2211e+00, -1.4342e-01, -3.0710e-01, -4.3775e-01,\n",
      "          7.7295e-01, -4.1333e-01, -5.2645e-01,  4.2569e-01,  1.7300e-01],\n",
      "        [-1.4338e+00,  2.6199e+00, -1.2447e-01,  3.6179e-01, -1.2000e+00,\n",
      "         -9.4543e-02, -4.3756e-03, -4.3352e-01,  1.9890e-01, -3.7609e-01],\n",
      "        [ 4.4441e-01, -8.7268e-01, -2.5097e-01,  1.4154e+00, -4.7455e-01,\n",
      "          8.8880e-01, -1.7599e-01, -5.5084e-01,  4.7271e-01, -9.9476e-01],\n",
      "        [-4.8990e-01, -2.0040e+00,  1.9349e-02, -7.9908e-01,  1.4375e+00,\n",
      "         -6.1462e-01, -2.4646e-01,  7.5934e-01,  4.0446e-02,  1.5916e+00],\n",
      "        [ 2.0592e-01, -1.5318e+00, -5.7025e-01,  4.2424e-01, -2.3974e-01,\n",
      "         -1.4763e-01, -8.5424e-01,  2.5689e+00, -3.6845e-01,  5.1986e-01],\n",
      "        [-9.0257e-01, -4.6796e-01, -1.6463e-01,  1.1766e+00, -2.6678e-01,\n",
      "          3.7508e-01,  5.5991e-01, -4.3237e-01,  7.5697e-02, -7.2217e-01],\n",
      "        [-9.1358e-01, -1.7743e+00, -4.2006e-01, -1.5744e-01,  1.9198e+00,\n",
      "         -5.3505e-02, -1.4951e-01,  5.9387e-03, -5.0348e-02,  1.3228e+00],\n",
      "        [-9.2739e-01, -3.9368e-01, -1.4699e+00, -7.3132e-03,  3.7640e-01,\n",
      "          1.0280e-01, -1.4879e+00,  1.7347e+00,  1.9027e-01,  1.4252e+00],\n",
      "        [-7.7961e-01, -1.7342e+00,  2.7797e-02,  3.1258e-01,  2.2152e-01,\n",
      "          4.0296e-01,  2.2963e+00, -1.4896e+00,  1.4542e-01,  4.4059e-02],\n",
      "        [-4.4997e-01,  3.6328e-01,  5.3903e-01, -8.4563e-01,  7.9947e-01,\n",
      "         -9.2608e-01,  9.6266e-01,  7.0391e-02, -4.2761e-01, -1.3804e-01],\n",
      "        [-3.6382e-01, -9.6502e-01, -7.2034e-01,  1.9627e-01, -3.1766e-01,\n",
      "          1.2461e+00,  2.9213e-01, -9.6767e-01,  6.7980e-01,  2.6504e-02],\n",
      "        [-7.4891e-01, -1.1340e+00, -4.3941e-02, -1.1960e-01,  1.1782e+00,\n",
      "         -4.0932e-01, -2.2463e-01,  3.0246e-01, -4.0533e-01,  1.0043e+00],\n",
      "        [ 4.1718e+00, -2.9055e+00,  3.3009e-01, -1.3486e+00, -2.2317e-01,\n",
      "          8.9677e-01,  9.6427e-01, -8.4808e-01, -4.2267e-01, -1.2711e+00],\n",
      "        [-1.8189e-01, -1.5307e+00, -6.7573e-01, -6.5912e-02,  3.3622e-01,\n",
      "         -1.0547e-01, -6.7407e-01,  1.6591e+00, -3.9463e-01,  1.0440e+00],\n",
      "        [-5.5721e-01, -2.3482e+00, -2.9332e-01, -7.0030e-01,  2.3284e+00,\n",
      "         -7.3818e-02, -4.7327e-02, -2.3085e-01,  9.1031e-02,  1.5294e+00],\n",
      "        [ 2.6645e+00, -2.2774e+00,  2.3757e-01,  9.9001e-01, -1.2928e+00,\n",
      "          7.3716e-01, -4.0207e-01, -5.6141e-01,  6.8190e-01, -6.0182e-01],\n",
      "        [-1.2487e+00,  1.5441e+00, -2.6233e-01,  3.5219e-02, -5.3996e-01,\n",
      "          2.6153e-01,  2.9822e-01, -4.1663e-01,  3.0533e-01, -4.0438e-01],\n",
      "        [-1.2026e+00, -3.5198e-01, -1.0242e+00,  2.1898e+00, -1.4002e+00,\n",
      "          8.5259e-01, -2.6996e-01,  4.6067e-01,  1.9697e-01, -1.4817e-01],\n",
      "        [-1.0022e+00,  1.1057e+00, -2.7847e-01,  2.7103e-01, -3.1101e-01,\n",
      "          2.4963e-01, -6.7662e-02, -1.4488e-01,  1.7663e-01,  7.6744e-04],\n",
      "        [-1.0225e+00, -9.2968e-01, -7.3663e-01,  2.4126e+00, -2.7747e-01,\n",
      "          1.3068e+00, -3.5567e-01, -1.0556e+00,  6.1580e-01, -1.7662e-01],\n",
      "        [ 1.9235e+00, -1.6051e+00,  6.4330e-01, -1.5785e+00,  8.1722e-01,\n",
      "          3.1203e-01,  1.5875e+00, -8.8763e-01, -3.1239e-01, -2.5910e-01],\n",
      "        [-1.1070e+00, -2.6364e-01,  8.9613e-01, -4.4974e-01, -1.2161e-01,\n",
      "         -5.2019e-01, -1.4966e+00,  1.6475e+00,  6.0686e-01,  6.7150e-01],\n",
      "        [ 5.2634e-01, -1.0259e+00,  2.4432e+00,  2.0044e-01, -8.9452e-01,\n",
      "          1.0837e-01,  2.8275e-01, -6.7288e-01,  1.3430e-01, -1.7180e+00],\n",
      "        [-5.0318e-01, -1.7677e+00,  7.9981e-02, -1.8997e-01,  3.0902e-03,\n",
      "         -3.8091e-01, -6.5698e-01,  2.3203e+00, -1.7345e-01,  9.5230e-01],\n",
      "        [-1.4770e+00,  2.1279e+00, -4.1920e-01, -2.1206e-02, -6.5584e-01,\n",
      "          9.8003e-02,  5.4300e-03, -1.9158e-01,  3.9553e-01, -1.5305e-01],\n",
      "        [ 8.1770e-02,  4.6950e-01,  8.6844e-01,  1.1947e+00, -1.8745e+00,\n",
      "          3.3565e-01,  4.4393e-01, -1.2261e+00,  6.2643e-01, -1.2341e+00],\n",
      "        [-1.5651e+00,  2.8766e+00, -3.3985e-01,  2.2718e-01, -1.3906e+00,\n",
      "         -1.8647e-01, -1.7162e-01, -8.2198e-01,  6.1762e-01, -3.3573e-01],\n",
      "        [-7.5660e-01,  1.5688e+00, -5.1067e-02,  2.7933e-03, -4.7441e-01,\n",
      "         -1.5413e-01,  4.0092e-02, -1.5157e-01,  1.1510e-01, -2.3381e-01],\n",
      "        [-7.7031e-01, -9.0080e-01, -1.4590e-01, -3.8533e-01,  1.7236e-01,\n",
      "         -1.8837e-01, -5.2466e-01,  2.1224e+00, -3.2666e-01,  1.1965e+00],\n",
      "        [-2.1512e+00, -5.9561e-01, -2.9281e-01, -5.0069e-01,  2.0524e+00,\n",
      "         -6.1143e-01, -9.9882e-01,  5.3094e-01,  2.9714e-01,  1.4468e+00],\n",
      "        [-3.8797e-01,  6.9476e-01,  9.0444e-01,  2.0168e-01, -4.0976e-01,\n",
      "         -3.6720e-01,  3.5110e-02, -1.1904e+00,  4.2926e-01, -5.1257e-01],\n",
      "        [-1.3623e+00,  8.4126e-02, -1.6794e-01,  1.1745e+00, -7.2432e-01,\n",
      "          5.8672e-01,  6.2555e-01, -2.1396e-01, -1.4015e-02, -3.7561e-01],\n",
      "        [ 3.9376e-02, -1.4449e+00, -6.1636e-01,  1.4639e+00, -8.0993e-01,\n",
      "          1.3214e+00,  7.3009e-02, -1.3334e+00,  8.2690e-01, -3.3506e-01],\n",
      "        [-1.7426e+00,  2.7945e-01,  6.4327e-02,  7.4652e-01, -2.9379e-01,\n",
      "          5.3560e-01,  2.1792e-01, -5.6625e-02,  1.5956e-01,  2.6557e-01],\n",
      "        [-6.7716e-01, -4.8880e-01,  1.7737e+00, -5.2165e-01,  2.4779e-01,\n",
      "         -6.9347e-01,  3.6929e-01, -3.6797e-01, -1.1066e-01,  1.3200e-01],\n",
      "        [-1.3573e+00, -2.8517e+00, -1.3749e+00, -2.5802e-01,  2.7340e+00,\n",
      "          2.8875e-01, -7.5847e-01,  1.7488e-01,  5.3077e-01,  2.1310e+00],\n",
      "        [-3.8908e-01, -2.1285e+00,  5.0655e-01, -7.9455e-01,  2.2758e+00,\n",
      "         -1.0216e+00,  3.0012e-03,  4.9832e-01, -4.9871e-01,  8.4016e-01],\n",
      "        [-2.5983e-01, -1.3030e+00, -4.8593e-02,  8.6325e-02, -4.7221e-01,\n",
      "          5.1317e-01,  2.0613e+00, -1.1601e+00, -9.6132e-02, -5.9116e-01],\n",
      "        [-1.1720e-01, -9.4064e-01, -1.2920e-01,  1.6319e+00, -4.9696e-01,\n",
      "          4.9631e-01, -4.5961e-01, -3.8885e-01, -1.5239e-01, -1.2369e-01],\n",
      "        [ 3.0612e-01, -1.4457e+00, -1.4073e+00, -2.3550e-02,  5.3934e-01,\n",
      "          1.2431e+00, -9.3230e-02, -1.8083e-01,  2.4808e-02,  3.5450e-01],\n",
      "        [ 3.3956e-01, -7.5078e-01, -4.7195e-01,  9.4525e-01, -6.3493e-02,\n",
      "          6.3882e-01, -2.2431e-01, -5.3732e-01,  2.9347e-01, -4.4428e-01],\n",
      "        [ 1.7780e-01, -4.6952e-01,  1.3992e+00, -2.7395e-01,  6.3868e-01,\n",
      "         -8.3147e-01,  5.9769e-01, -3.9963e-01, -3.6877e-01, -3.6565e-01],\n",
      "        [ 1.5851e+00, -2.2028e+00, -5.2871e-01,  2.3709e-01, -6.9093e-01,\n",
      "          1.1554e+00,  1.5324e-01, -7.4951e-01,  1.3654e+00, -3.4206e-01],\n",
      "        [-2.0840e-01, -2.8296e+00, -5.8440e-02, -6.2296e-01,  2.6403e+00,\n",
      "         -7.1974e-02,  5.8725e-02, -3.3098e-01, -9.2442e-02,  1.0294e+00],\n",
      "        [-8.7165e-01,  2.3965e+00,  5.7212e-02,  2.0674e-01, -9.3463e-01,\n",
      "         -3.7103e-01, -6.5711e-01, -3.1781e-01,  1.7082e-01, -1.0171e-01],\n",
      "        [-4.0398e-01, -1.9824e+00, -9.5373e-01, -9.2979e-01,  1.5228e+00,\n",
      "         -3.5562e-01, -2.7697e-01,  8.5328e-01, -3.3304e-01,  1.9028e+00],\n",
      "        [ 1.7925e-01,  1.3644e-02, -4.6377e-01, -4.2321e-01,  1.7671e-02,\n",
      "          3.9917e-01, -2.9942e-01,  4.4875e-01,  1.2555e-01, -2.4214e-01],\n",
      "        [-1.1947e-01, -1.9882e+00, -7.5367e-01,  3.5631e-01,  2.0137e-01,\n",
      "          4.7329e-02, -3.7960e-01,  2.1395e+00, -6.8571e-01,  5.5875e-01],\n",
      "        [ 1.7711e-01, -8.3187e-01,  1.0021e+00, -1.5840e+00, -1.4318e-01,\n",
      "          7.8233e-02,  5.3232e-01, -9.1804e-01,  1.0463e+00,  3.0909e-01],\n",
      "        [-9.5247e-01, -9.3054e-01, -1.0227e-01, -3.8752e-01,  7.0069e-01,\n",
      "          1.2934e-01,  1.8274e-01, -2.0766e-01,  3.1961e-01,  9.5823e-01],\n",
      "        [-1.0800e+00, -1.1922e-01,  1.0955e+00,  7.7472e-01, -1.5772e-01,\n",
      "         -3.3351e-01, -3.1733e-01, -8.2567e-01,  3.9153e-01,  2.2413e-01],\n",
      "        [-1.1042e+00, -8.9840e-01,  3.4028e-01, -7.0437e-01,  6.7303e-01,\n",
      "         -6.2040e-01, -7.4950e-01,  1.4406e+00,  2.1110e-01,  7.2850e-01],\n",
      "        [-1.3047e+00, -7.1763e-01, -6.8288e-01,  4.5349e-01,  3.3881e-01,\n",
      "          4.9533e-01, -3.3734e-02, -2.5305e-01,  4.1037e-01,  7.3696e-01],\n",
      "        [ 2.5142e-01,  4.2596e-02,  1.0705e+00, -1.7843e-01,  9.8969e-02,\n",
      "         -5.8045e-01,  7.0359e-01,  6.3429e-02, -4.4199e-01, -2.8417e-01],\n",
      "        [-7.1443e-01, -1.8169e+00,  4.6386e-01, -1.1302e+00,  2.2164e+00,\n",
      "         -7.5857e-01, -3.9016e-01,  4.0922e-01, -4.0444e-02,  6.5092e-01],\n",
      "        [-1.5798e+00, -8.3672e-01, -4.1360e-01,  2.6317e+00, -5.8073e-01,\n",
      "          9.7223e-01, -1.0305e+00, -8.2472e-01,  9.9863e-01,  1.3397e-02],\n",
      "        [ 2.4088e+00, -1.4884e+00,  5.6968e-01, -7.9406e-01, -9.3762e-01,\n",
      "          4.1702e-01,  2.2050e-01, -1.0013e-01, -3.1494e-01, -2.7494e-01],\n",
      "        [ 3.7327e-01, -1.2987e+00, -9.2200e-01, -8.0791e-02, -2.2362e-01,\n",
      "         -1.1710e-01, -7.8971e-01,  2.7794e+00, -4.0106e-01,  3.6437e-01],\n",
      "        [ 4.3514e+00, -2.5849e+00,  9.8572e-01,  2.6364e-01, -1.1383e+00,\n",
      "          1.0746e+00, -7.5203e-03, -1.6984e+00,  6.6806e-02, -1.4748e+00],\n",
      "        [ 1.3185e+00, -1.1674e+00,  1.5265e+00,  1.3071e+00, -1.3844e+00,\n",
      "          3.0644e-01,  4.1234e-01, -9.9723e-01, -2.7576e-02, -1.9232e+00],\n",
      "        [-1.7270e+00,  9.2454e-01,  2.6972e-01, -2.0000e-01, -8.4607e-01,\n",
      "         -4.5674e-01, -9.1854e-01,  7.4044e-01,  1.1673e+00,  5.2661e-01],\n",
      "        [-1.4162e+00,  2.3229e+00, -4.2027e-01, -1.9849e-02, -8.9900e-01,\n",
      "          1.0113e-01,  4.3771e-02, -2.5686e-01,  6.2054e-01, -1.8356e-01],\n",
      "        [-1.7078e+00,  4.5957e-01, -7.0610e-01, -5.3277e-01,  5.3795e-01,\n",
      "         -4.6835e-01, -6.4843e-01,  1.7037e+00,  1.0277e-01,  4.4210e-01],\n",
      "        [-5.7245e-01,  1.2515e-02, -4.3074e-01,  2.3151e+00, -1.1492e+00,\n",
      "          9.9494e-01, -4.2157e-01, -1.1234e+00,  3.9406e-01, -7.2969e-01],\n",
      "        [-8.5459e-01, -5.4395e-01,  8.1977e-01, -7.3491e-01, -3.9367e-02,\n",
      "         -4.9936e-01, -1.5135e-01,  1.6242e+00, -1.9654e-01,  5.9666e-01],\n",
      "        [-1.8443e+00,  1.0159e+00, -7.1433e-01,  1.5021e-02, -1.3758e-01,\n",
      "         -7.5815e-02, -6.4557e-01,  3.3274e-01,  6.4703e-01,  6.6914e-01],\n",
      "        [-7.0813e-01, -6.0221e-01, -5.6808e-01, -9.7643e-01, -7.8796e-02,\n",
      "         -3.0494e-01, -1.3650e+00,  3.2806e+00,  1.2283e-01,  6.6320e-01],\n",
      "        [-6.4227e-01, -1.9946e+00, -1.2141e+00, -1.4382e-01,  7.9189e-01,\n",
      "          4.1736e-01, -3.7420e-01,  1.4003e+00, -5.5147e-01,  1.6835e+00],\n",
      "        [ 1.9429e-02, -1.8847e+00,  4.9430e-01, -5.0181e-01, -2.7644e-03,\n",
      "          3.0912e-01,  2.3788e+00, -5.9071e-01, -3.3856e-01,  5.0016e-02],\n",
      "        [-7.1012e-01, -1.4130e+00,  3.7875e+00, -4.9970e-02, -1.6093e-01,\n",
      "         -9.4731e-01,  1.0158e+00, -1.1712e+00,  4.3336e-01, -1.1511e+00],\n",
      "        [-6.8677e-01, -1.9543e+00, -6.6646e-01, -2.5560e-01,  8.0495e-01,\n",
      "         -1.0146e-01, -9.7545e-01,  1.9624e+00, -2.5215e-01,  1.6072e+00],\n",
      "        [-8.0994e-01, -1.7990e-01, -4.9905e-01, -6.9112e-01,  7.2693e-01,\n",
      "          4.2377e-01, -6.2874e-01, -7.2053e-01,  9.6306e-01,  7.9336e-01],\n",
      "        [-1.1185e+00, -2.6435e+00, -8.1576e-01, -6.9642e-02,  3.1193e+00,\n",
      "         -4.7069e-02, -4.7168e-01, -2.9266e-01,  1.8030e-01,  1.3054e+00],\n",
      "        [-1.8581e+00,  5.4879e-01, -2.5100e-01, -6.6273e-01, -1.4987e-01,\n",
      "         -6.7268e-01, -1.1324e+00,  2.9702e+00,  3.2640e-01,  9.7467e-01],\n",
      "        [-6.9919e-02, -1.6209e+00, -1.1570e+00,  1.9028e+00, -2.7330e-02,\n",
      "          1.0324e+00,  5.6920e-01, -3.8860e-01,  5.9866e-02,  6.9562e-02],\n",
      "        [-2.3787e-01, -1.9136e+00,  9.3686e-01, -1.1371e+00,  1.2367e+00,\n",
      "         -3.5620e-01,  2.4237e+00, -1.0777e-01, -6.7492e-01,  2.5551e-01],\n",
      "        [-1.8063e+00,  2.7905e+00,  3.0483e-01, -5.9597e-02, -7.4757e-01,\n",
      "         -4.7041e-01, -4.3956e-01, -4.2648e-01,  4.2024e-01, -5.3734e-01],\n",
      "        [ 3.2397e-01, -9.0337e-01, -2.2345e-01,  2.7618e+00, -1.2981e+00,\n",
      "          7.7245e-01, -1.3209e+00, -4.9923e-01,  9.2542e-01, -6.9888e-01],\n",
      "        [-1.2503e+00, -7.5738e-01,  3.2088e-01, -5.4476e-01,  2.5510e-01,\n",
      "         -2.4853e-01,  2.7387e+00, -1.2144e+00,  1.8371e-01,  2.2073e-01],\n",
      "        [-9.6611e-01, -9.7016e-02,  4.8973e-02, -6.6574e-01,  4.4593e-01,\n",
      "         -1.1902e-01, -2.3293e-01, -1.4320e-01,  5.9946e-01,  4.5967e-01],\n",
      "        [-1.2149e+00, -7.3742e-01, -7.6318e-01,  2.5762e+00, -1.6373e+00,\n",
      "          1.1549e+00, -9.5781e-01,  5.9385e-01,  7.4576e-01,  5.4635e-02],\n",
      "        [-2.3000e+00,  1.7586e+00, -2.9857e-02,  1.6879e-01, -6.0258e-01,\n",
      "          2.3879e-01,  4.8700e-01, -5.8488e-01,  7.1253e-01, -7.3834e-02],\n",
      "        [-9.6512e-01, -5.1818e-01, -3.0605e-01, -1.4346e+00,  2.0466e+00,\n",
      "         -5.9087e-01,  6.3238e-02, -2.4594e-01, -1.1641e-01,  1.1973e+00],\n",
      "        [-1.1636e+00,  5.2039e-01, -2.8920e-01,  3.7720e-01, -2.5086e-01,\n",
      "          3.5018e-01, -3.6440e-02,  3.6371e-02,  3.5797e-01,  2.3387e-01],\n",
      "        [-1.9430e+00,  1.4439e+00, -7.3831e-01, -1.0751e-01, -2.8407e-01,\n",
      "         -2.0926e-01, -6.5760e-02,  5.3166e-01,  2.4130e-01,  4.9409e-01],\n",
      "        [ 8.6863e-01, -1.0543e+00,  8.6295e-01, -9.2360e-01, -2.7576e-01,\n",
      "          5.9334e-01,  1.8673e+00, -1.0477e+00, -1.5663e-01, -6.1283e-01],\n",
      "        [-1.3225e+00, -1.8023e+00, -7.2374e-02, -6.1530e-01,  1.3546e+00,\n",
      "         -9.1294e-01, -4.8872e-01,  8.2421e-01, -5.6696e-02,  2.1109e+00]],\n",
      "       grad_fn=<AddmmBackward>)\n"
     ]
    }
   ],
   "source": [
    "iter_test = 0\n",
    "for images, labels in test_loader:\n",
    "    iter_test += 1\n",
    "    images = images.view(-1, 28*28).requires_grad_()\n",
    "    outputs = model(images)\n",
    "    if iter_test == 1:\n",
    "        print('OUTPUTS')\n",
    "        print(outputs)\n",
    "    _, predicted = torch.max(outputs.data, 1)"
   ]
  },
  {
   "cell_type": "markdown",
   "metadata": {},
   "source": [
    "Put the first minibatch (100 images) of test dataset into the trained model.\n",
    "And it shows the first data(image) output results (1x10) in which 2.7933 is highest point. It hints the predicted \n",
    "number is 7."
   ]
  },
  {
   "cell_type": "code",
   "execution_count": 44,
   "metadata": {},
   "outputs": [
    {
     "name": "stdout",
     "output_type": "stream",
     "text": [
      "OUTPUTS\n",
      "tensor([-0.3247, -1.1798, -0.4460, -0.0523,  0.1118, -0.3256, -1.1478,  2.7933,\n",
      "        -0.1108,  0.8277], grad_fn=<SliceBackward>)\n"
     ]
    }
   ],
   "source": [
    "iter_test = 0\n",
    "for images, labels in test_loader:\n",
    "    iter_test += 1\n",
    "    images = images.view(-1, 28*28).requires_grad_()\n",
    "    outputs = model(images)\n",
    "    if iter_test == 1:\n",
    "        print('OUTPUTS')\n",
    "        print(outputs[0, :])\n",
    "    _, predicted = torch.max(outputs.data, 1)"
   ]
  },
  {
   "cell_type": "code",
   "execution_count": 43,
   "metadata": {},
   "outputs": [
    {
     "name": "stdout",
     "output_type": "stream",
     "text": [
      "OUTPUTS\n",
      "torch.Size([100, 10])\n"
     ]
    }
   ],
   "source": [
    "iter_test = 0\n",
    "for images, labels in test_loader:\n",
    "    iter_test += 1\n",
    "    images = images.view(-1, 28*28).requires_grad_()\n",
    "    outputs = model(images)\n",
    "    if iter_test == 1:\n",
    "        print('OUTPUTS')\n",
    "        print(outputs.size())\n",
    "    _, predicted = torch.max(outputs.data, 1)"
   ]
  },
  {
   "cell_type": "code",
   "execution_count": 45,
   "metadata": {},
   "outputs": [
    {
     "name": "stdout",
     "output_type": "stream",
     "text": [
      "PREDICTION\n",
      "torch.Size([100])\n"
     ]
    }
   ],
   "source": [
    "iter_test = 0\n",
    "for images, labels in test_loader:\n",
    "    iter_test += 1\n",
    "    images = images.view(-1, 28*28).requires_grad_()\n",
    "    outputs = model(images)\n",
    "    _, predicted = torch.max(outputs.data, 1)\n",
    "    if iter_test == 1:\n",
    "        print('PREDICTION')\n",
    "        print(predicted.size())"
   ]
  },
  {
   "cell_type": "code",
   "execution_count": 46,
   "metadata": {},
   "outputs": [
    {
     "name": "stdout",
     "output_type": "stream",
     "text": [
      "PREDICTION\n",
      "tensor(7)\n"
     ]
    }
   ],
   "source": [
    "iter_test = 0\n",
    "for images, labels in test_loader:\n",
    "    iter_test += 1\n",
    "    images = images.view(-1, 28*28).requires_grad_()\n",
    "    outputs = model(images)\n",
    "    _, predicted = torch.max(outputs.data, 1)\n",
    "    if iter_test == 1:\n",
    "        print('PREDICTION')\n",
    "        print(predicted[0])"
   ]
  },
  {
   "cell_type": "code",
   "execution_count": 47,
   "metadata": {},
   "outputs": [
    {
     "name": "stdout",
     "output_type": "stream",
     "text": [
      "PREDICTION\n",
      "tensor(7)\n",
      "LABEL SIZE\n",
      "torch.Size([100])\n",
      "LABEL FOR IMAGE 0\n",
      "tensor(7)\n"
     ]
    }
   ],
   "source": [
    "iter_test = 0\n",
    "for images, labels in test_loader:\n",
    "    iter_test += 1\n",
    "    images = images.view(-1, 28*28).requires_grad_()\n",
    "    outputs = model(images)\n",
    "    _, predicted = torch.max(outputs.data, 1)\n",
    "    if iter_test == 1:\n",
    "        print('PREDICTION')\n",
    "        print(predicted[0])\n",
    "        \n",
    "        print('LABEL SIZE')\n",
    "        print(labels.size())\n",
    "        \n",
    "        print('LABEL FOR IMAGE 0')\n",
    "        print(labels[0])"
   ]
  },
  {
   "cell_type": "code",
   "execution_count": 48,
   "metadata": {},
   "outputs": [
    {
     "name": "stdout",
     "output_type": "stream",
     "text": [
      "PREDICTION\n",
      "tensor(2)\n",
      "LABEL SIZE\n",
      "torch.Size([100])\n",
      "LABEL FOR IMAGE 1\n",
      "tensor(2)\n"
     ]
    }
   ],
   "source": [
    "iter_test = 0\n",
    "for images, labels in test_loader:\n",
    "    iter_test += 1\n",
    "    images = images.view(-1, 28*28).requires_grad_()\n",
    "    outputs = model(images)\n",
    "    _, predicted = torch.max(outputs.data, 1)\n",
    "    \n",
    "    if iter_test == 1:\n",
    "        print('PREDICTION')\n",
    "        print(predicted[1])\n",
    "        \n",
    "        print('LABEL SIZE')\n",
    "        print(labels.size())\n",
    "        \n",
    "        print('LABEL FOR IMAGE 1')\n",
    "        print(labels[1])"
   ]
  },
  {
   "cell_type": "code",
   "execution_count": 49,
   "metadata": {},
   "outputs": [
    {
     "name": "stdout",
     "output_type": "stream",
     "text": [
      "82.42\n"
     ]
    }
   ],
   "source": [
    "correct = 0\n",
    "total = 0\n",
    "iter_test = 0\n",
    "for images, labels in test_loader:\n",
    "    iter_test += 1\n",
    "    images = images.view(-1, 28*28).requires_grad_()\n",
    "    outputs = model(images)\n",
    "    _, predicted = torch.max(outputs.data, 1)\n",
    "    \n",
    "    # Total number of labels\n",
    "    total += labels.size(0)\n",
    "\n",
    "    # Total correct predictions\n",
    "    correct += (predicted == labels).sum()\n",
    "\n",
    "accuracy = 100 * (correct.item() / total)\n",
    "\n",
    "print(accuracy)"
   ]
  },
  {
   "cell_type": "code",
   "execution_count": 50,
   "metadata": {},
   "outputs": [
    {
     "name": "stdout",
     "output_type": "stream",
     "text": [
      "[1. 1. 1. 1. 1. 1. 1. 1. 1. 1.]\n",
      "[1. 1. 1. 1. 1. 1. 1. 1. 1. 1.]\n",
      "[ True  True  True  True  True  True  True  True  True  True]\n",
      "10\n"
     ]
    }
   ],
   "source": [
    "# Explaining .sum() python built-in function\n",
    "# correct += (predicted == labels).sum()\n",
    "import numpy as np\n",
    "a = np.ones((10))\n",
    "print(a)\n",
    "b = np.ones((10))\n",
    "print(b)\n",
    "\n",
    "print(a == b)\n",
    "\n",
    "print((a == b).sum())"
   ]
  },
  {
   "cell_type": "markdown",
   "metadata": {},
   "source": [
    "#### Saving Model"
   ]
  },
  {
   "cell_type": "code",
   "execution_count": 51,
   "metadata": {},
   "outputs": [],
   "source": [
    "save_model = False\n",
    "if save_model is True:\n",
    "    # Saves only parameters\n",
    "    torch.save(model.state_dict(), 'awesome_model.pkl')"
   ]
  },
  {
   "cell_type": "markdown",
   "metadata": {},
   "source": [
    "## 3. Building a Logistic Regression Model with PyTorch (GPU)\n",
    "\n"
   ]
  },
  {
   "cell_type": "markdown",
   "metadata": {},
   "source": [
    "**CPU Version**"
   ]
  },
  {
   "cell_type": "code",
   "execution_count": 52,
   "metadata": {},
   "outputs": [
    {
     "name": "stdout",
     "output_type": "stream",
     "text": [
      "Iteration: 500. Loss: 1.840948224067688. Accuracy: 66.27\n",
      "Iteration: 1000. Loss: 1.5895570516586304. Accuracy: 75.12\n",
      "Iteration: 1500. Loss: 1.298655390739441. Accuracy: 78.09\n",
      "Iteration: 2000. Loss: 1.2521631717681885. Accuracy: 80.08\n",
      "Iteration: 2500. Loss: 1.1440932750701904. Accuracy: 81.51\n",
      "Iteration: 3000. Loss: 0.9545812010765076. Accuracy: 82.24\n"
     ]
    }
   ],
   "source": [
    "import torch\n",
    "import torch.nn as nn\n",
    "import torchvision.transforms as transforms\n",
    "import torchvision.datasets as dsets\n",
    "\n",
    "'''\n",
    "STEP 1: LOADING DATASET\n",
    "'''\n",
    "\n",
    "train_dataset = dsets.MNIST(root='./data', \n",
    "                            train=True, \n",
    "                            transform=transforms.ToTensor(),\n",
    "                            download=True)\n",
    "\n",
    "test_dataset = dsets.MNIST(root='./data', \n",
    "                           train=False, \n",
    "                           transform=transforms.ToTensor())\n",
    "\n",
    "'''\n",
    "STEP 2: MAKING DATASET ITERABLE\n",
    "'''\n",
    "\n",
    "batch_size = 100\n",
    "n_iters = 3000\n",
    "num_epochs = n_iters / (len(train_dataset) / batch_size)\n",
    "num_epochs = int(num_epochs)\n",
    "\n",
    "train_loader = torch.utils.data.DataLoader(dataset=train_dataset, \n",
    "                                           batch_size=batch_size, \n",
    "                                           shuffle=True)\n",
    "\n",
    "test_loader = torch.utils.data.DataLoader(dataset=test_dataset, \n",
    "                                          batch_size=batch_size, \n",
    "                                          shuffle=False)\n",
    "\n",
    "'''\n",
    "STEP 3: CREATE MODEL CLASS\n",
    "'''\n",
    "class LogisticRegressionModel(nn.Module):\n",
    "    def __init__(self, input_size, num_classes):\n",
    "        super(LogisticRegressionModel, self).__init__()\n",
    "        self.linear = nn.Linear(input_dim, output_dim)\n",
    "    \n",
    "    def forward(self, x):\n",
    "        out = self.linear(x)\n",
    "        return out\n",
    "\n",
    "'''\n",
    "STEP 4: INSTANTIATE MODEL CLASS\n",
    "'''\n",
    "input_dim = 28*28\n",
    "output_dim = 10\n",
    "\n",
    "model = LogisticRegressionModel(input_dim, output_dim)\n",
    "\n",
    "'''\n",
    "STEP 5: INSTANTIATE LOSS CLASS\n",
    "'''\n",
    "criterion = nn.CrossEntropyLoss()\n",
    "\n",
    "\n",
    "'''\n",
    "STEP 6: INSTANTIATE OPTIMIZER CLASS\n",
    "'''\n",
    "learning_rate = 0.001\n",
    "\n",
    "optimizer = torch.optim.SGD(model.parameters(), lr=learning_rate)\n",
    "\n",
    "'''\n",
    "STEP 7: TRAIN THE MODEL\n",
    "'''\n",
    "iter = 0\n",
    "for epoch in range(num_epochs):\n",
    "    for i, (images, labels) in enumerate(train_loader):\n",
    "        # Load images as Variable\n",
    "        images = images.view(-1, 28*28).requires_grad_()\n",
    "        labels = labels\n",
    "        \n",
    "        # Clear gradients w.r.t. parameters\n",
    "        optimizer.zero_grad()\n",
    "        \n",
    "        # Forward pass to get output/logits\n",
    "        # 100 x 10\n",
    "        outputs = model(images)\n",
    "        \n",
    "        # Calculate Loss: softmax --> cross entropy loss\n",
    "        loss = criterion(outputs, labels)\n",
    "        \n",
    "        # Getting gradients w.r.t. parameters\n",
    "        loss.backward()\n",
    "        \n",
    "        # Updating parameters\n",
    "        optimizer.step()\n",
    "        \n",
    "        iter += 1\n",
    "        \n",
    "        if iter % 500 == 0:\n",
    "            # Calculate Accuracy         \n",
    "            correct = 0\n",
    "            total = 0\n",
    "            # Iterate through test dataset\n",
    "            for images, labels in test_loader:\n",
    "                # Load images to a Torch Variable\n",
    "                images = images.view(-1, 28*28).requires_grad_()\n",
    "                \n",
    "                # Forward pass only to get logits/output\n",
    "                outputs = model(images)\n",
    "                \n",
    "                # Get predictions from the maximum value\n",
    "                # 100 x 1\n",
    "                _, predicted = torch.max(outputs.data, 1)\n",
    "                \n",
    "                # Total number of labels\n",
    "                total += labels.size(0)\n",
    "                \n",
    "                # Total correct predictions\n",
    "                correct += (predicted == labels).sum()\n",
    "            \n",
    "            accuracy = 100 * correct.item() / total\n",
    "            \n",
    "            # Print Loss\n",
    "            print('Iteration: {}. Loss: {}. Accuracy: {}'.format(iter, loss.item(), accuracy))"
   ]
  },
  {
   "cell_type": "markdown",
   "metadata": {},
   "source": [
    "GPU: 2 things must be on GPU\n",
    "- `model`\n",
    "- `variables`"
   ]
  },
  {
   "cell_type": "code",
   "execution_count": 53,
   "metadata": {},
   "outputs": [
    {
     "name": "stdout",
     "output_type": "stream",
     "text": [
      "Iteration: 500. Loss: 1.7876325845718384. Accuracy: 67.12\n",
      "Iteration: 1000. Loss: 1.542566180229187. Accuracy: 74.36\n",
      "Iteration: 1500. Loss: 1.3279670476913452. Accuracy: 77.93\n",
      "Iteration: 2000. Loss: 1.1746045351028442. Accuracy: 80.31\n",
      "Iteration: 2500. Loss: 1.0527358055114746. Accuracy: 81.49\n",
      "Iteration: 3000. Loss: 0.9866024255752563. Accuracy: 82.35\n"
     ]
    }
   ],
   "source": [
    "import torch\n",
    "import torch.nn as nn\n",
    "import torchvision.transforms as transforms\n",
    "import torchvision.datasets as dsets\n",
    "\n",
    "'''\n",
    "STEP 1: LOADING DATASET\n",
    "'''\n",
    "\n",
    "train_dataset = dsets.MNIST(root='./data', \n",
    "                            train=True, \n",
    "                            transform=transforms.ToTensor(),\n",
    "                            download=True)\n",
    "\n",
    "test_dataset = dsets.MNIST(root='./data', \n",
    "                           train=False, \n",
    "                           transform=transforms.ToTensor())\n",
    "\n",
    "'''\n",
    "STEP 2: MAKING DATASET ITERABLE\n",
    "'''\n",
    "\n",
    "batch_size = 100\n",
    "n_iters = 3000\n",
    "num_epochs = n_iters / (len(train_dataset) / batch_size)\n",
    "num_epochs = int(num_epochs)\n",
    "\n",
    "train_loader = torch.utils.data.DataLoader(dataset=train_dataset, \n",
    "                                           batch_size=batch_size, \n",
    "                                           shuffle=True)\n",
    "\n",
    "test_loader = torch.utils.data.DataLoader(dataset=test_dataset, \n",
    "                                          batch_size=batch_size, \n",
    "                                          shuffle=False)\n",
    "\n",
    "'''\n",
    "STEP 3: CREATE MODEL CLASS\n",
    "'''\n",
    "class LogisticRegressionModel(nn.Module):\n",
    "    def __init__(self, input_size, num_classes):\n",
    "        super(LogisticRegressionModel, self).__init__()\n",
    "        self.linear = nn.Linear(input_dim, output_dim)\n",
    "    \n",
    "    def forward(self, x):\n",
    "        out = self.linear(x)\n",
    "        return out\n",
    "\n",
    "'''\n",
    "STEP 4: INSTANTIATE MODEL CLASS\n",
    "'''\n",
    "input_dim = 28*28\n",
    "output_dim = 10\n",
    "\n",
    "model = LogisticRegressionModel(input_dim, output_dim)\n",
    "\n",
    "#######################\n",
    "#  USE GPU FOR MODEL  #\n",
    "#######################\n",
    "\n",
    "device = torch.device(\"cuda:0\" if torch.cuda.is_available() else \"cpu\")\n",
    "model.to(device)\n",
    "\n",
    "'''\n",
    "STEP 5: INSTANTIATE LOSS CLASS\n",
    "'''\n",
    "criterion = nn.CrossEntropyLoss()\n",
    "\n",
    "\n",
    "'''\n",
    "STEP 6: INSTANTIATE OPTIMIZER CLASS\n",
    "'''\n",
    "learning_rate = 0.001\n",
    "\n",
    "optimizer = torch.optim.SGD(model.parameters(), lr=learning_rate)\n",
    "\n",
    "'''\n",
    "STEP 7: TRAIN THE MODEL\n",
    "'''\n",
    "iter = 0\n",
    "for epoch in range(num_epochs):\n",
    "    for i, (images, labels) in enumerate(train_loader):\n",
    "        \n",
    "        #######################\n",
    "        #  USE GPU FOR MODEL  #\n",
    "        #######################\n",
    "        images = images.view(-1, 28*28).requires_grad_().to(device)\n",
    "        labels = labels.to(device)\n",
    "        \n",
    "        # Clear gradients w.r.t. parameters\n",
    "        optimizer.zero_grad()\n",
    "        \n",
    "        # Forward pass to get output/logits\n",
    "        outputs = model(images)\n",
    "        \n",
    "        # Calculate Loss: softmax --> cross entropy loss\n",
    "        loss = criterion(outputs, labels)\n",
    "        \n",
    "        # Getting gradients w.r.t. parameters\n",
    "        loss.backward()\n",
    "        \n",
    "        # Updating parameters\n",
    "        optimizer.step()\n",
    "        \n",
    "        iter += 1\n",
    "        \n",
    "        if iter % 500 == 0:\n",
    "            # Calculate Accuracy         \n",
    "            correct = 0\n",
    "            total = 0\n",
    "            # Iterate through test dataset\n",
    "            for images, labels in test_loader:\n",
    "                #######################\n",
    "                #  USE GPU FOR MODEL  #\n",
    "                #######################\n",
    "                images = images.view(-1, 28*28).to(device)\n",
    "                \n",
    "                # Forward pass only to get logits/output\n",
    "                outputs = model(images)\n",
    "                \n",
    "                # Get predictions from the maximum value\n",
    "                _, predicted = torch.max(outputs.data, 1)\n",
    "                \n",
    "                # Total number of labels\n",
    "                total += labels.size(0)\n",
    "                \n",
    "                #######################\n",
    "                #  USE GPU FOR MODEL  #\n",
    "                #######################\n",
    "                # Total correct predictions\n",
    "                if torch.cuda.is_available():\n",
    "                    correct += (predicted.cpu() == labels.cpu()).sum()\n",
    "                else:\n",
    "                    correct += (predicted == labels).sum()\n",
    "            \n",
    "            accuracy = 100 * correct.item() / total\n",
    "            \n",
    "            # Print Loss\n",
    "            print('Iteration: {}. Loss: {}. Accuracy: {}'.format(iter, loss.item(), accuracy))"
   ]
  },
  {
   "cell_type": "markdown",
   "metadata": {},
   "source": [
    "# Summary"
   ]
  },
  {
   "cell_type": "markdown",
   "metadata": {},
   "source": [
    "- **Logistic regression** basics\n",
    "- **Problems** of **linear regression**\n",
    "- **In-depth** Logistic Regression\n",
    "    1. Get logits\n",
    "    2. Get softmax\n",
    "    3. Get cross-entropy loss\n",
    "- **Aim**: reduce cross-entropy loss\n",
    "- Built a **logistic regression model** in **CPU and GPU**\n",
    "    - Step 1: Load Dataset\n",
    "    - Step 2: Make Dataset Iterable\n",
    "    - Step 3: Create Model Class\n",
    "    - Step 4: Instantiate Model Class\n",
    "    - Step 5: Instantiate Loss Class\n",
    "    - Step 6: Instantiate Optimizer Class\n",
    "    - Step 7: Train Model\n",
    "- Important things to be on **GPU**\n",
    "    - `model`\n",
    "    - `tensors with gradients`"
   ]
  }
 ],
 "metadata": {
  "anaconda-cloud": {},
  "kernelspec": {
   "display_name": "Python 3",
   "language": "python",
   "name": "python3"
  },
  "language_info": {
   "codemirror_mode": {
    "name": "ipython",
    "version": 3
   },
   "file_extension": ".py",
   "mimetype": "text/x-python",
   "name": "python",
   "nbconvert_exporter": "python",
   "pygments_lexer": "ipython3",
   "version": "3.7.4"
  }
 },
 "nbformat": 4,
 "nbformat_minor": 1
}
